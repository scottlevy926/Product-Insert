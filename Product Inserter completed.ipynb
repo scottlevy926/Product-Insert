{
 "cells": [
  {
   "cell_type": "markdown",
   "metadata": {},
   "source": [
    "# Product Inserter\n",
    "The user can enter a product number, description, and price to be inserted into database.\n",
    "\n",
    "Input: product number, description, and price\n",
    "\n",
    "Output: message confirming the insertion\n",
    "\n",
    "Author:\n",
    "\n",
    "Date:\n"
   ]
  },
  {
   "cell_type": "code",
   "execution_count": 1,
   "metadata": {},
   "outputs": [
    {
     "name": "stdout",
     "output_type": "stream",
     "text": [
      "Please enter the product number: \n",
      "15-099\n",
      "Please enter the description: \n",
      "Great coffee\n",
      "Please enter the price: \n",
      "3.33\n",
      "1 row inserted.\n"
     ]
    }
   ],
   "source": [
    "import mysql.connector # import mysql connector library\n",
    "\n",
    "# create a connect object\n",
    "conn = mysql.connector.connect(\n",
    "  host=\"localhost\", # server\n",
    "  user=\"root\", # user name\n",
    "  passwd=\"\" #password\n",
    ")\n",
    "cur = conn.cursor()\n",
    "\n",
    "cur.execute('use CoffeeDB')\n",
    "\n",
    "\n",
    "# Get user input of product number, description, and price\n",
    "print('Please enter the product number: ')\n",
    "num = input()\n",
    "print('Please enter the description: ')\n",
    "description = input()\n",
    "print('Please enter the price: ')\n",
    "price = input()\n",
    "\n",
    "# Prepare the insert statement with a prepared statement\n",
    "sql = \"INSERT INTO coffee (prodnum, description, price) VALUES (%s, %s, %s)\"\n",
    "\n",
    "# The values to be inserted. Should match tht order in the insert statement\n",
    "values = (num, description, price)\n",
    "\n",
    "# execute the prepared statement, with values provided.\n",
    "cur.execute(sql, values)\n",
    "\n",
    "# how many rows are affected\n",
    "count =cur.rowcount\n",
    "\n",
    "# show a confirmation message to the user\n",
    "print(str(count)+ ' row inserted.')\n",
    "\n",
    "# commit the changes to the database\n",
    "conn.commit()\n",
    "\n",
    "# close the connection\n",
    "conn.close ()"
   ]
  },
  {
   "cell_type": "code",
   "execution_count": null,
   "metadata": {},
   "outputs": [],
   "source": []
  }
 ],
 "metadata": {
  "kernelspec": {
   "display_name": "Python 3",
   "language": "python",
   "name": "python3"
  },
  "language_info": {
   "codemirror_mode": {
    "name": "ipython",
    "version": 3
   },
   "file_extension": ".py",
   "mimetype": "text/x-python",
   "name": "python",
   "nbconvert_exporter": "python",
   "pygments_lexer": "ipython3",
   "version": "3.7.3"
  }
 },
 "nbformat": 4,
 "nbformat_minor": 2
}
